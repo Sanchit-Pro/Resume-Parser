{
  "cells": [
    {
      "cell_type": "code",
      "execution_count": null,
      "metadata": {
        "id": "s9P3QOtVLawW"
      },
      "outputs": [],
      "source": [
        "from pdfminer.high_level import extract_text\n",
        "import nltk\n",
        "import re\n",
        "import spacy"
      ]
    },
    {
      "cell_type": "code",
      "execution_count": null,
      "metadata": {
        "colab": {
          "base_uri": "https://localhost:8080/"
        },
        "id": "qYEdDAMXLl0U",
        "outputId": "48c3f78c-19c8-404c-8c43-026cc4ab6c32"
      },
      "outputs": [],
      "source": [
        "nltk.download('punkt')\n",
        "nltk.download('averaged_perceptron_tagger')\n",
        "nltk.download('maxent_ne_chunker')\n",
        "nltk.download('words')\n",
        "nltk.download('stopwords')\n",
        "nlp = spacy.load(\"en_core_web_sm\")"
      ]
    },
    {
      "cell_type": "code",
      "execution_count": null,
      "metadata": {
        "id": "-Bug3_R7Ln9K"
      },
      "outputs": [],
      "source": [
        "def get_pdf_text(pdf_path):\n",
        "    return extract_text(pdf_path)"
      ]
    },
    {
      "cell_type": "code",
      "execution_count": null,
      "metadata": {
        "id": "JWCProX-MaCw"
      },
      "outputs": [],
      "source": [
        "path=\"resume.pdf\"\n",
        "text = get_pdf_text(path)"
      ]
    },
    {
      "cell_type": "code",
      "execution_count": null,
      "metadata": {
        "colab": {
          "base_uri": "https://localhost:8080/"
        },
        "id": "kcULVb94W3Pm",
        "outputId": "635a1645-1369-4689-f2c1-5e407a4d512a"
      },
      "outputs": [],
      "source": [
        "print(text)"
      ]
    },
    {
      "cell_type": "code",
      "execution_count": null,
      "metadata": {
        "id": "IrPbBlpbL8TI"
      },
      "outputs": [],
      "source": [
        "def extract_names(txt):\n",
        "    output = nlp(txt)\n",
        "    for i in output.ents:\n",
        "        if i.label_==\"PERSON\":\n",
        "            return i"
      ]
    },
    {
      "cell_type": "code",
      "execution_count": null,
      "metadata": {
        "colab": {
          "base_uri": "https://localhost:8080/"
        },
        "id": "LKv1ekV_M2hw",
        "outputId": "0507831f-a4a1-4a0e-d800-7ff2d8251d7f"
      },
      "outputs": [],
      "source": [
        "names = extract_names(text)\n",
        "print(names)"
      ]
    },
    {
      "cell_type": "code",
      "execution_count": null,
      "metadata": {
        "id": "zLo9yMZDL_Ae"
      },
      "outputs": [],
      "source": [
        "def extract_phone(text):\n",
        "    reg_pat = re.compile(r'[\\+\\(]?[1-9][0-9 .\\-\\(\\)]{8,}[0-9]')\n",
        "    phone = re.findall(reg_pat, text)\n",
        "\n",
        "    if phone:\n",
        "        number = ''.join(phone[0])\n",
        "\n",
        "        if text.find(number) >= 0 and len(number) < 16:\n",
        "            return number\n",
        "    return None"
      ]
    },
    {
      "cell_type": "code",
      "execution_count": null,
      "metadata": {
        "colab": {
          "base_uri": "https://localhost:8080/"
        },
        "id": "7N3dDyexM7mH",
        "outputId": "4c4f3594-17dc-4e44-958f-5ae661c6c654"
      },
      "outputs": [],
      "source": [
        "phone = extract_phone(text)\n",
        "print(phone)"
      ]
    },
    {
      "cell_type": "code",
      "execution_count": null,
      "metadata": {
        "id": "ZNyXPsegMDyR"
      },
      "outputs": [],
      "source": [
        "def extract_emails(text):\n",
        "    ereg_pat = re.compile(r'[a-z0-9\\.\\-+_]+@[a-z0-9\\.\\-+_]+\\.[a-z]+')\n",
        "    return re.findall(ereg_pat, text)"
      ]
    },
    {
      "cell_type": "code",
      "execution_count": null,
      "metadata": {
        "colab": {
          "base_uri": "https://localhost:8080/"
        },
        "id": "A7S9DhGwNATX",
        "outputId": "f30ca69d-49ab-4a58-9157-5ff0d060f3e5"
      },
      "outputs": [],
      "source": [
        "email = extract_emails(text)\n",
        "print(email)"
      ]
    },
    {
      "cell_type": "code",
      "execution_count": null,
      "metadata": {
        "id": "irP9otntMFl7"
      },
      "outputs": [],
      "source": [
        "def extract_skills(input_text):\n",
        "    dataset = [\n",
        "        'python', 'java', 'c', 'golang', 'html', 'css', 'js', 'php', 'kotlin', 'data science',\n",
        "        'machine learning', 'mongodb', 'expressjs', 'reactjs', 'nodejs', 'deep learning', \n",
        "        'nlp', 'natural language processing', 'mern'\n",
        "    ]\n",
        "    stop_words = set(nltk.corpus.stopwords.words('english'))\n",
        "    word_tokens = nltk.tokenize.word_tokenize(input_text)\n",
        "\n",
        "    cleaned_tokens = [w for w in word_tokens if w not in stop_words]\n",
        "    grams = list(map(' '.join, nltk.everygrams(cleaned_tokens, 2, 3)))\n",
        "    skill_extracted = set()\n",
        "\n",
        "    for token in cleaned_tokens:\n",
        "        if token.lower() in dataset:\n",
        "            skill_extracted.add(token)\n",
        "\n",
        "    for i in grams:\n",
        "        if i.lower() in dataset:\n",
        "            skill_extracted.add(i)\n",
        "\n",
        "    return skill_extracted"
      ]
    },
    {
      "cell_type": "code",
      "execution_count": null,
      "metadata": {
        "colab": {
          "base_uri": "https://localhost:8080/"
        },
        "id": "aRK7WzV-NF26",
        "outputId": "dca46e91-1df4-4826-e9a6-dc42f9ad2d5b"
      },
      "outputs": [],
      "source": [
        "skills = extract_skills(text)\n",
        "print(skills)"
      ]
    },
    {
      "cell_type": "code",
      "execution_count": null,
      "metadata": {
        "id": "yvhsfPlBMKwv"
      },
      "outputs": [],
      "source": [
        "def extract_edu(input_text):\n",
        "    edu_words = ['school', 'college', 'university', 'academy', 'institute']\n",
        "    organizations = []\n",
        "\n",
        "    output = nlp(input_text)\n",
        "    for i in output.ents:\n",
        "      if i.label_==\"ORG\":\n",
        "        organizations.append(i.text)\n",
        "\n",
        "    education = set()\n",
        "    for org in organizations:\n",
        "        for word in edu_words:\n",
        "            if org.lower().find(word) >= 0:\n",
        "                education.add(org)\n",
        "    return education"
      ]
    },
    {
      "cell_type": "code",
      "execution_count": null,
      "metadata": {
        "colab": {
          "base_uri": "https://localhost:8080/"
        },
        "id": "jl-0RqTpNNQs",
        "outputId": "ee2dc336-6a79-43ae-8dbe-9f42182fb98b"
      },
      "outputs": [],
      "source": [
        "education = extract_edu(text)\n",
        "print(education)"
      ]
    },
    {
      "cell_type": "code",
      "execution_count": null,
      "metadata": {
        "id": "2aVIU3_XO_KQ"
      },
      "outputs": [],
      "source": []
    }
  ],
  "metadata": {
    "colab": {
      "provenance": []
    },
    "kernelspec": {
      "display_name": "Python 3",
      "name": "python3"
    },
    "language_info": {
      "name": "python"
    }
  },
  "nbformat": 4,
  "nbformat_minor": 0
}
